{
  "metadata": {
    "kernelspec": {
      "display_name": "Python 3",
      "name": "python3"
    },
    "language_info": {
      "name": "python",
      "version": "3.10.13",
      "mimetype": "text/x-python",
      "codemirror_mode": {
        "name": "ipython",
        "version": 3
      },
      "pygments_lexer": "ipython3",
      "nbconvert_exporter": "python",
      "file_extension": ".py"
    },
    "kaggle": {
      "accelerator": "nvidiaTeslaT4",
      "dataSources": [],
      "dockerImageVersionId": 30733,
      "isInternetEnabled": true,
      "language": "python",
      "sourceType": "notebook",
      "isGpuEnabled": true
    },
    "colab": {
      "provenance": [],
      "collapsed_sections": [
        "V6Mww58pphIo"
      ],
      "gpuType": "T4",
      "include_colab_link": true
    },
    "accelerator": "GPU"
  },
  "nbformat_minor": 0,
  "nbformat": 4,
  "cells": [
    {
      "cell_type": "markdown",
      "metadata": {
        "id": "view-in-github",
        "colab_type": "text"
      },
      "source": [
        "<a href=\"https://colab.research.google.com/github/Matabudi/new/blob/main/VIDScaler_Colab.ipynb\" target=\"_parent\"><img src=\"https://colab.research.google.com/assets/colab-badge.svg\" alt=\"Open In Colab\"/></a>"
      ]
    },
    {
      "cell_type": "markdown",
      "source": [
        "# **INSTALL DEPENDENCIES**\n",
        "Install the required libraries and with GPU support."
      ],
      "metadata": {
        "id": "d389m9Iso2Q-"
      }
    },
    {
      "cell_type": "code",
      "source": [
        "# Install the required libraries and with GPU support.\n",
        "!pip install tqdm\n",
        "!pip install ffmpeg-python\n",
        "!apt update -qq && apt install -y ffmpeg\n",
        "!pip install --upgrade --force-reinstall --no-deps 'git+https://github.com/kkroening/ffmpeg-python.git'\n",
        "!pip install ipywidgets\n",
        "# Ensure CUDA and NVIDIA drivers are installed\n",
        "!apt-get install -qq cuda-toolkit\n",
        "from IPython.display import display, HTML, clear_output"
      ],
      "metadata": {
        "scrolled": true,
        "_kg_hide-output": true,
        "execution": {
          "iopub.status.busy": "2024-06-30T21:36:41.755456Z",
          "iopub.execute_input": "2024-06-30T21:36:41.755809Z",
          "iopub.status.idle": "2024-06-30T21:37:34.784745Z",
          "shell.execute_reply.started": "2024-06-30T21:36:41.755773Z",
          "shell.execute_reply": "2024-06-30T21:37:34.783608Z"
        },
        "trusted": true,
        "id": "fc3jkn-Vo2RV",
        "collapsed": true
      },
      "execution_count": null,
      "outputs": []
    },
    {
      "cell_type": "markdown",
      "source": [
        "# **MOUNT GOOGLE DRIVE**\n",
        "Run this Cell if you want to mount your Google Drive. Ensure that you define the file paths in each cell if you want to save your files within your drive."
      ],
      "metadata": {
        "id": "V6Mww58pphIo"
      }
    },
    {
      "cell_type": "code",
      "source": [
        "from google.colab import drive\n",
        "drive.mount('/content/drive')"
      ],
      "metadata": {
        "id": "21mQfYNZpXfS"
      },
      "execution_count": null,
      "outputs": []
    },
    {
      "cell_type": "markdown",
      "source": [
        "# **DOWNLOAD VIDEO FILE**\n",
        "Define the 'Video URL' and choose the 'Save Path' before running this cell."
      ],
      "metadata": {
        "_kg_hide-output": true,
        "id": "Sr5XLrQUo2Rj"
      }
    },
    {
      "cell_type": "code",
      "source": [
        "\n",
        "import requests\n",
        "from tqdm import tqdm\n",
        "import os\n",
        "\n",
        "# Paste a valid URL link of the video you wish to download into the field below.\n",
        "video_url = ''  # @param {type:\"string\"}\n",
        "\n",
        "# Define the save path in Kaggle working directory.\n",
        "save_path = ''  # @param {type:\"string\"}\n",
        "\n",
        "def download_video(url, save_path):\n",
        "    response = requests.get(url, stream=True)\n",
        "    total_size = int(response.headers.get('content-length', 0))\n",
        "    block_size = 1024  # 1 Kilobyte\n",
        "    t = tqdm(total=total_size, unit='iB', unit_scale=True)\n",
        "    with open(save_path, 'wb') as file:\n",
        "        for data in response.iter_content(block_size):\n",
        "            t.update(len(data))\n",
        "            file.write(data)\n",
        "    t.close()\n",
        "    if total_size != 0 and t.n != total_size:\n",
        "        print(\"ERROR, something went wrong\")\n",
        "    else:\n",
        "        print(f\"Video downloaded to {save_path}\")\n",
        "\n",
        "# Execute download\n",
        "download_video(video_url, save_path)"
      ],
      "metadata": {
        "scrolled": true,
        "execution": {
          "iopub.status.busy": "2024-06-30T21:39:06.187122Z",
          "iopub.execute_input": "2024-06-30T21:39:06.187481Z",
          "iopub.status.idle": "2024-06-30T21:39:15.591409Z",
          "shell.execute_reply.started": "2024-06-30T21:39:06.187448Z",
          "shell.execute_reply": "2024-06-30T21:39:15.590503Z"
        },
        "trusted": true,
        "id": "6P0_a2Y_o2Rm"
      },
      "execution_count": null,
      "outputs": []
    },
    {
      "cell_type": "markdown",
      "source": [
        "# **VIDEO SIZE COMPRESSION**\n",
        "Run this cell if you want to downscale the video file size by reducing the resolution.\n",
        "There are two options for Video Resolution;\n",
        "###### 1. **480p** - Standard Compression (Standard Quality).\n",
        "###### 2. **360p** - Maximum Compression (Low Quality).\n",
        "**(Please note that the amount of compression applied is dependant on the resolution you define in the line of code below.)**"
      ],
      "metadata": {
        "_kg_hide-output": true,
        "_kg_hide-input": true,
        "id": "ttISuV6co2Rr"
      }
    },
    {
      "cell_type": "code",
      "source": [
        "\n",
        "import ffmpeg\n",
        "import os\n",
        "from tqdm import tqdm\n",
        "\n",
        "# Enter the resolution you want: either \"480p\" or \"360p\".\n",
        "desired_resolution = \"480p\"  # @param [\"480p\", \"360p\"] {type:\"string\"}\n",
        "\n",
        "def downscale_video(input_path, resolution=\"480p\"):\n",
        "    try:\n",
        "        # Map resolution options to scale values\n",
        "        resolution_map = {\n",
        "            \"480p\": \"480\",\n",
        "            \"360p\": \"360\"\n",
        "        }\n",
        "        if resolution not in resolution_map:\n",
        "            raise ValueError(\"Invalid resolution. Choose either '480p' or '360p'.\")\n",
        "        scale_value = resolution_map[resolution]\n",
        "        # Define the output video path\n",
        "        output_path = input_path.replace('.mp4', f'_{resolution}.mp4')\n",
        "        # Probe the video to get file info\n",
        "        probe = ffmpeg.probe(input_path)\n",
        "        video_info = next(stream for stream in probe['streams'] if stream['codec_type'] == 'video')\n",
        "        total_frames = int(video_info['nb_frames'])\n",
        "        # Function to update the progress bar\n",
        "        def progress_callback(stats):\n",
        "            frame = int(stats.get('frame', 0))\n",
        "            t.update(frame - t.n)\n",
        "        # Create a progress bar\n",
        "        with tqdm(total=total_frames, unit='frame') as t:\n",
        "            # Use h264_nvenc codec for GPU encoding\n",
        "            process = (\n",
        "                ffmpeg\n",
        "                .input(input_path)\n",
        "                .output(output_path, vf=f\"scale=-1:{scale_value}\", vcodec=\"h264_nvenc\", preset=\"fast\")\n",
        "                .global_args('-progress', 'pipe:1', '-nostats')\n",
        "                .global_args('-y')  # Overwrite output files without asking\n",
        "                .global_args('-loglevel', 'error')  # Suppress ffmpeg console output\n",
        "                .run_async(pipe_stdin=True, pipe_stdout=True, pipe_stderr=True)\n",
        "            )\n",
        "            for line in process.stdout:\n",
        "                line = line.decode().strip()\n",
        "                if 'frame=' in line:\n",
        "                    stats = {}\n",
        "                    for item in line.split(' '):\n",
        "                        key, value = item.split('=')\n",
        "                        stats[key] = value\n",
        "                    progress_callback(stats)\n",
        "        print(f\"Downscaled video saved to {output_path}\")\n",
        "        # Print original and downscaled file sizes\n",
        "        original_size = os.path.getsize(input_path) / (1024 * 1024)\n",
        "        downscaled_size = os.path.getsize(output_path) / (1024 * 1024)\n",
        "        print(f\"Original size: {original_size:.2f} MB\")\n",
        "        print(f\"Downscaled size: {downscaled_size:.2f} MB\")\n",
        "    except ffmpeg.Error as e:\n",
        "        # Print the full error message for debugging\n",
        "        print(f\"ffmpeg error: {e.stderr.decode()}\")\n",
        "    except ValueError as ve:\n",
        "        # Handle invalid resolution error\n",
        "        print(ve)\n",
        "\n",
        "# Set the path of the video file you want to convert\n",
        "input_video_path = '/content/drive/MyDrive/video.mp4' # @param {type:\"string\"}\n",
        "# Execute compression\n",
        "downscale_video(input_video_path, resolution=desired_resolution)"
      ],
      "metadata": {
        "execution": {
          "iopub.status.busy": "2024-06-30T21:39:29.66483Z",
          "iopub.execute_input": "2024-06-30T21:39:29.66556Z",
          "iopub.status.idle": "2024-06-30T21:39:51.864606Z",
          "shell.execute_reply.started": "2024-06-30T21:39:29.665528Z",
          "shell.execute_reply": "2024-06-30T21:39:51.863704Z"
        },
        "trusted": true,
        "id": "TI8Mkyrvo2Rv",
        "cellView": "form"
      },
      "execution_count": null,
      "outputs": []
    },
    {
      "cell_type": "markdown",
      "source": [
        "# **DELETE EXISTING VIDEO FILES**\n",
        "**CAUTION!** :This will delete any video file within the save path directory that contain the names 'video' & 'downscaled_video'. Once this cell is run, the deletion of the video files cannot be undone."
      ],
      "metadata": {
        "id": "bfwOF40vo2R1"
      }
    },
    {
      "cell_type": "code",
      "source": [
        "# **File Management Operations**\n",
        "\n",
        "This cell demonstrates basic file management operations in Python, including moving a specified file to a new location and deleting another file.\n",
        "\n",
        "```python\n",
        "import os\n",
        "\n",
        "# Define the file or folder to be moved\n",
        "source = \"/kaggle/working/video.mp4\"  # @param {type:\"string\"}\n",
        "\n",
        "# Define the location it will be moved to\n",
        "destination = \"/kaggle/output/\"  # @param {type:\"string\"}\n",
        "\n",
        "# Function to move a file or folder to a new location\n",
        "def move_file(source, destination):\n",
        "    try:\n",
        "        if os.path.exists(source):\n",
        "            if not os.path.exists(destination):\n",
        "                os.makedirs(destination)\n",
        "            new_path = os.path.join(destination, os.path.basename(source))\n",
        "            os.rename(source, new_path)\n",
        "            print(f\"Moved: {source} -> {new_path}\")\n",
        "        else:\n",
        "            print(f\"Not found: {source}\")\n",
        "    except Exception as e:\n",
        "        print(f\"Error moving {source} to {destination}: {e}\")\n",
        "\n",
        "# Function to delete a specified file\n",
        "def delete_file(path):\n",
        "    try:\n",
        "        if os.path.exists(path):\n",
        "            os.remove(path)\n",
        "            print(f\"Deleted: {path}\")\n",
        "        else:\n",
        "            print(f\"Not found: {path}\")\n",
        "    except Exception as e:\n",
        "        print(f\"Error deleting {path}: {e}\")\n",
        "\n",
        "# Example usage: Move the file\n",
        "move_file(source, destination)\n",
        "\n",
        "# Example usage: Delete a file\n",
        "delete_file(\"/kaggle/working/video.mp4\")"
      ],
      "metadata": {
        "scrolled": true,
        "execution": {
          "iopub.status.busy": "2024-06-30T21:38:54.666533Z",
          "iopub.execute_input": "2024-06-30T21:38:54.666938Z",
          "iopub.status.idle": "2024-06-30T21:38:54.713895Z",
          "shell.execute_reply.started": "2024-06-30T21:38:54.6669Z",
          "shell.execute_reply": "2024-06-30T21:38:54.713Z"
        },
        "trusted": true,
        "id": "Ji-OMIJWo2R4"
      },
      "execution_count": null,
      "outputs": []
    },
    {
      "cell_type": "markdown",
      "source": [
        "# **STREAM VIDEO**\n",
        "Stream the downloaded video within the Kaggle Notebook environment."
      ],
      "metadata": {
        "id": "m2_IS1TKo2R9"
      }
    },
    {
      "cell_type": "code",
      "source": [
        "import os\n",
        "import mimetypes\n",
        "import ipywidgets as widgets\n",
        "from IPython.display import display\n",
        "\n",
        "# Set the path of the video file you want to play.\n",
        "stream_path = \"/content/drive/MyDrive/video.mp4\"  # @param {type:\"string\"}\n",
        "\n",
        "# List the contents of the directory to ensure the video file exists\n",
        "print(\"Directory contents:\", os.listdir(os.path.dirname(stream_path)))\n",
        "\n",
        "# Check if the video file exists\n",
        "if os.path.exists(stream_path):\n",
        "    print(f\"Video file found at: {stream_path}\")\n",
        "    # Check the file type\n",
        "    file_type, _ = mimetypes.guess_type(stream_path)\n",
        "    print(f\"File type: {file_type}\")\n",
        "    if file_type == 'video/mp4':\n",
        "        video = open(stream_path, \"rb\").read()\n",
        "        video_widget = widgets.Video(value=video, format='mp4', width=600, height=400)\n",
        "        display(video_widget)\n",
        "    else:\n",
        "        print(f\"The file at {stream_path} is not a valid MP4 video file.\")\n",
        "else:\n",
        "    print(f\"Video file not found at: {stream_path}\")"
      ],
      "metadata": {
        "execution": {
          "iopub.status.busy": "2024-06-30T22:11:26.927599Z",
          "iopub.execute_input": "2024-06-30T22:11:26.928293Z",
          "iopub.status.idle": "2024-06-30T22:11:26.940453Z",
          "shell.execute_reply.started": "2024-06-30T22:11:26.928255Z",
          "shell.execute_reply": "2024-06-30T22:11:26.939491Z"
        },
        "trusted": true,
        "id": "DQ2_ztbPo2SB",
        "cellView": "form"
      },
      "execution_count": null,
      "outputs": []
    }
  ]
}